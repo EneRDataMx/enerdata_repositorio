{
 "cells": [
  {
   "cell_type": "code",
   "execution_count": 1,
   "metadata": {
    "scrolled": true
   },
   "outputs": [],
   "source": [
    "import altair as alt\n",
    "import pandas as pd\n",
    "import seaborn as sns"
   ]
  },
  {
   "cell_type": "code",
   "execution_count": 2,
   "metadata": {},
   "outputs": [
    {
     "name": "stdout",
     "output_type": "stream",
     "text": [
      "<class 'pandas.core.frame.DataFrame'>\n",
      "DatetimeIndex: 9 entries, 2011-01-01 to 2020-01-01\n",
      "Data columns (total 2 columns):\n",
      " #   Column  Non-Null Count  Dtype         \n",
      "---  ------  --------------  -----         \n",
      " 0   Factor  9 non-null      float64       \n",
      " 1   Año     9 non-null      datetime64[ns]\n",
      "dtypes: datetime64[ns](1), float64(1)\n",
      "memory usage: 216.0 bytes\n"
     ]
    }
   ],
   "source": [
    "f   = '../data/independencia.csv'\n",
    "ind = pd.read_csv(f,index_col=0,parse_dates=True)\n",
    "ind['Año'] = ind.index\n",
    "ind.info()"
   ]
  },
  {
   "cell_type": "code",
   "execution_count": 7,
   "metadata": {
    "scrolled": false
   },
   "outputs": [
    {
     "data": {
      "text/html": [
       "\n",
       "<div id=\"altair-viz-027976d0eb67447a9d6413aba5ded040\"></div>\n",
       "<script type=\"text/javascript\">\n",
       "  var VEGA_DEBUG = (typeof VEGA_DEBUG == \"undefined\") ? {} : VEGA_DEBUG;\n",
       "  (function(spec, embedOpt){\n",
       "    let outputDiv = document.currentScript.previousElementSibling;\n",
       "    if (outputDiv.id !== \"altair-viz-027976d0eb67447a9d6413aba5ded040\") {\n",
       "      outputDiv = document.getElementById(\"altair-viz-027976d0eb67447a9d6413aba5ded040\");\n",
       "    }\n",
       "    const paths = {\n",
       "      \"vega\": \"https://cdn.jsdelivr.net/npm//vega@5?noext\",\n",
       "      \"vega-lib\": \"https://cdn.jsdelivr.net/npm//vega-lib?noext\",\n",
       "      \"vega-lite\": \"https://cdn.jsdelivr.net/npm//vega-lite@4.17.0?noext\",\n",
       "      \"vega-embed\": \"https://cdn.jsdelivr.net/npm//vega-embed@6?noext\",\n",
       "    };\n",
       "\n",
       "    function maybeLoadScript(lib, version) {\n",
       "      var key = `${lib.replace(\"-\", \"\")}_version`;\n",
       "      return (VEGA_DEBUG[key] == version) ?\n",
       "        Promise.resolve(paths[lib]) :\n",
       "        new Promise(function(resolve, reject) {\n",
       "          var s = document.createElement('script');\n",
       "          document.getElementsByTagName(\"head\")[0].appendChild(s);\n",
       "          s.async = true;\n",
       "          s.onload = () => {\n",
       "            VEGA_DEBUG[key] = version;\n",
       "            return resolve(paths[lib]);\n",
       "          };\n",
       "          s.onerror = () => reject(`Error loading script: ${paths[lib]}`);\n",
       "          s.src = paths[lib];\n",
       "        });\n",
       "    }\n",
       "\n",
       "    function showError(err) {\n",
       "      outputDiv.innerHTML = `<div class=\"error\" style=\"color:red;\">${err}</div>`;\n",
       "      throw err;\n",
       "    }\n",
       "\n",
       "    function displayChart(vegaEmbed) {\n",
       "      vegaEmbed(outputDiv, spec, embedOpt)\n",
       "        .catch(err => showError(`Javascript Error: ${err.message}<br>This usually means there's a typo in your chart specification. See the javascript console for the full traceback.`));\n",
       "    }\n",
       "\n",
       "    if(typeof define === \"function\" && define.amd) {\n",
       "      requirejs.config({paths});\n",
       "      require([\"vega-embed\"], displayChart, err => showError(`Error loading script: ${err.message}`));\n",
       "    } else {\n",
       "      maybeLoadScript(\"vega\", \"5\")\n",
       "        .then(() => maybeLoadScript(\"vega-lite\", \"4.17.0\"))\n",
       "        .then(() => maybeLoadScript(\"vega-embed\", \"6\"))\n",
       "        .catch(showError)\n",
       "        .then(() => displayChart(vegaEmbed));\n",
       "    }\n",
       "  })({\"config\": {\"view\": {\"continuousWidth\": 400, \"continuousHeight\": 300}}, \"layer\": [{\"mark\": {\"type\": \"line\", \"point\": true}, \"encoding\": {\"x\": {\"field\": \"A\\u00f1o\", \"type\": \"temporal\"}, \"y\": {\"field\": \"Factor\", \"type\": \"quantitative\"}}, \"height\": 200, \"title\": \"Independencia Energ\\u00e9tica de M\\u00e9xico\", \"width\": 400}, {\"mark\": {\"type\": \"point\", \"fill\": \"White\"}, \"encoding\": {\"x\": {\"field\": \"A\\u00f1o\", \"type\": \"temporal\"}, \"y\": {\"field\": \"Factor\", \"type\": \"quantitative\"}}, \"height\": 200, \"title\": \"Independencia Energ\\u00e9tica de M\\u00e9xico\", \"width\": 400}], \"data\": {\"name\": \"data-8a5caa461df2cc9ccd8cf652f15fa6eb\"}, \"$schema\": \"https://vega.github.io/schema/vega-lite/v4.17.0.json\", \"datasets\": {\"data-8a5caa461df2cc9ccd8cf652f15fa6eb\": [{\"Factor\": 1.1, \"A\\u00f1o\": \"2011-01-01T00:00:00\"}, {\"Factor\": 1.0, \"A\\u00f1o\": \"2012-01-01T00:00:00\"}, {\"Factor\": 1.02, \"A\\u00f1o\": \"2014-01-01T00:00:00\"}, {\"Factor\": 0.97, \"A\\u00f1o\": \"2015-01-01T00:00:00\"}, {\"Factor\": 0.84, \"A\\u00f1o\": \"2016-01-01T00:00:00\"}, {\"Factor\": 0.76, \"A\\u00f1o\": \"2017-01-01T00:00:00\"}, {\"Factor\": 0.7, \"A\\u00f1o\": \"2018-01-01T00:00:00\"}, {\"Factor\": 0.72, \"A\\u00f1o\": \"2019-01-01T00:00:00\"}, {\"Factor\": 0.87, \"A\\u00f1o\": \"2020-01-01T00:00:00\"}]}}, {\"mode\": \"vega-lite\"});\n",
       "</script>"
      ],
      "text/plain": [
       "alt.LayerChart(...)"
      ]
     },
     "execution_count": 7,
     "metadata": {},
     "output_type": "execute_result"
    }
   ],
   "source": [
    "figura = alt.Chart(ind).mark_line(point=True,).encode(\n",
    "x='Año',\n",
    "y='Factor'\n",
    ").properties(\n",
    "    title=\"Independencia Energética de México\",\n",
    "    width=400,height=200,\n",
    ")\n",
    "\n",
    "\n",
    "point = figura.mark_point(fill='White')\n",
    "\n",
    "figura + point"
   ]
  },
  {
   "cell_type": "code",
   "execution_count": 5,
   "metadata": {},
   "outputs": [
    {
     "data": {
      "text/plain": [
       "<seaborn.axisgrid.FacetGrid at 0x12f6bd280>"
      ]
     },
     "execution_count": 5,
     "metadata": {},
     "output_type": "execute_result"
    },
    {
     "data": {
      "image/png": "[encoded data removed]",
      "text/plain": [
       "<Figure size 450x360 with 1 Axes>"
      ]
     },
     "metadata": {
      "needs_background": "light"
     },
     "output_type": "display_data"
    }
   ],
   "source": [
    "# sns.set_context(\"talk\")\n",
    "\n",
    "sns.set_context()\n",
    "\n",
    "sns.relplot(\n",
    "    data=ind,\n",
    "    x=\"Año\", y=\"Factor\",\n",
    "    kind=\"line\", \n",
    "    height=5, aspect=1.25,linewidth=2,\n",
    "    markersize=10,marker=\"o\"\n",
    ")"
   ]
  },
  {
   "cell_type": "code",
   "execution_count": null,
   "metadata": {},
   "outputs": [],
   "source": []
  },
  {
   "cell_type": "code",
   "execution_count": null,
   "metadata": {},
   "outputs": [],
   "source": []
  }
 ],
 "metadata": {
  "kernelspec": {
   "display_name": "Python 3",
   "language": "python",
   "name": "python3"
  },
  "language_info": {
   "codemirror_mode": {
    "name": "ipython",
    "version": 3
   },
   "file_extension": ".py",
   "mimetype": "text/x-python",
   "name": "python",
   "nbconvert_exporter": "python",
   "pygments_lexer": "ipython3",
   "version": "3.9.14"
  }
 },
 "nbformat": 4,
 "nbformat_minor": 4
}
